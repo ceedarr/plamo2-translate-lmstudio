{
 "cells": [
  {
   "cell_type": "markdown",
   "id": "32e517cd",
   "metadata": {},
   "source": [
    "### シナリオ 1: 「規定のまま使う」"
   ]
  },
  {
   "cell_type": "code",
   "execution_count": null,
   "id": "3040b991",
   "metadata": {},
   "outputs": [
    {
     "name": "stdout",
     "output_type": "stream",
     "text": [
      "あなたはどこの出身ですか。\n",
      "Please update the translation memory by the weekend.\n",
      "草案の議題を共有してください。\n",
      "I can attend tomorrow's meeting.\n"
     ]
    },
    {
     "data": {
      "text/plain": [
       "'草案の議題を共有してください。'"
      ]
     },
     "execution_count": 9,
     "metadata": {},
     "output_type": "execute_result"
    }
   ],
   "source": [
    "from plamo2_translate_lmstudio import translate, translate_ja_en, en2ja, ja2en\n",
    "\n",
    "print(translate(\"Where are you from?\", src_lang=\"English\", tgt_lang=\"Japanese\"))\n",
    "print(translate_ja_en(\"ja\", \"週末までに翻訳メモリを更新してください。\"))\n",
    "print(en2ja(\"Please share the draft agenda.\"))\n",
    "print(ja2en(\"明日の会議には参加可能です。\"))\n",
    "\n",
    "# 最もシンプルな使い方\n",
    "en2ja(\"Please share the draft agenda.\")"
   ]
  },
  {
   "cell_type": "markdown",
   "id": "74963a15",
   "metadata": {},
   "source": [
    "### シナリオ2: 「`PlamoTranslator` をカスタマイズして使う」"
   ]
  },
  {
   "cell_type": "code",
   "execution_count": null,
   "id": "123d5d37",
   "metadata": {},
   "outputs": [
    {
     "name": "stdout",
     "output_type": "stream",
     "text": [
      "四半期報告書を提出してください。\n",
      "Have you shared the latest minutes?\n",
      "展開チェックリストが完成しました。\n",
      "Please reply to the customer today.\n"
     ]
    }
   ],
   "source": [
    "from plamo2_translate_lmstudio import PlamoTranslator\n",
    "\n",
    "model = \"mmnga/plamo-2-translate-gguf\" # ここを変更\n",
    "translator = PlamoTranslator(model=model)\n",
    "\n",
    "translate = translator.translate\n",
    "translate_ja_en = translator.translate_ja_en\n",
    "en2ja = translator.en2ja\n",
    "ja2en = translator.ja2en\n",
    "\n",
    "print(translate(\"Please submit the quarterly report.\", src_lang=\"English\", tgt_lang=\"Japanese\"))\n",
    "print(translate_ja_en(\"ja\", \"最新の議事録を共有済みですか？\"))\n",
    "print(en2ja(\"The deployment checklist is complete.\"))\n",
    "print(ja2en(\"顧客への返信を今日中にお願いします。\"))"
   ]
  },
  {
   "cell_type": "markdown",
   "id": "08fda621",
   "metadata": {},
   "source": [
    "### シナリオ3: 「カスタマイズされた `translator` を毎回引数へ渡す」"
   ]
  },
  {
   "cell_type": "code",
   "execution_count": 10,
   "id": "5d4ff462",
   "metadata": {},
   "outputs": [
    {
     "name": "stdout",
     "output_type": "stream",
     "text": [
      "指標ダッシュボードの準備は可能ですか？\n"
     ]
    }
   ],
   "source": [
    "from plamo2_translate_lmstudio import translate, PlamoTranslator\n",
    "\n",
    "custom_translator = PlamoTranslator(model=\"mmnga/plamo-2-translate-gguf\", timeout_sec=90)\n",
    "\n",
    "result = translate(\n",
    "    \"Could you prepare the metrics dashboard?\",\n",
    "    translator=custom_translator,\n",
    "    temperature=0.2,\n",
    ")\n",
    "print(result)"
   ]
  },
  {
   "cell_type": "markdown",
   "id": "97d16b40",
   "metadata": {},
   "source": [
    "### その他: ループを使った一括翻訳"
   ]
  },
  {
   "cell_type": "code",
   "execution_count": 14,
   "id": "88a7dc40",
   "metadata": {},
   "outputs": [
    {
     "name": "stdout",
     "output_type": "stream",
     "text": [
      "English -> Japanese\n",
      "  Original   : Could you prepare the architecture review slides?\n",
      "  Translation: アーキテクチャレビュー用のスライドを準備していただけますか？\n",
      "\n",
      "Japanese -> English\n",
      "  Original   : 新しいテストケースをリポジトリに追加しました。\n",
      "  Translation: Added a new test case to the repository.\n",
      "\n",
      "ja -> English\n",
      "  Original   : 週次ミーティングの議事録を送付しました。\n",
      "  Translation: I have sent the minutes of our weekly meeting.\n",
      "\n",
      "en -> Japanese\n",
      "  Original   : Please double-check the release plan for next week.\n",
      "  Translation: 来週のリリース計画を再確認してください。\n",
      "\n"
     ]
    }
   ],
   "source": [
    "pairs = [\n",
    "    (\"English\", \"Japanese\", \"Could you prepare the architecture review slides?\"),\n",
    "    (\"Japanese\", \"English\", \"新しいテストケースをリポジトリに追加しました。\"),\n",
    "]\n",
    "\n",
    "for src_lang, tgt_lang, sentence in pairs:\n",
    "    output = translate(sentence, src_lang=src_lang, tgt_lang=tgt_lang)\n",
    "    print(f\"{src_lang} -> {tgt_lang}\")\n",
    "    print(f\"  Original   : {sentence}\")\n",
    "    print(f\"  Translation: {output}\\n\")\n",
    "\n",
    "ja_en_samples = [\n",
    "    (\"ja\", \"週次ミーティングの議事録を送付しました。\"),\n",
    "    (\"en\", \"Please double-check the release plan for next week.\")\n",
    "]\n",
    "\n",
    "for src_lang, sentence in ja_en_samples:\n",
    "    output = translate_ja_en(src_lang, sentence)\n",
    "    tgt_lang = \"English\" if src_lang in [\"Japanese\", \"ja\", \"jp\"] else \"Japanese\"\n",
    "    print(f\"{src_lang} -> {tgt_lang}\")\n",
    "    print(f\"  Original   : {sentence}\")\n",
    "    print(f\"  Translation: {output}\\n\")\n"
   ]
  },
  {
   "cell_type": "markdown",
   "id": "bbbeb187",
   "metadata": {},
   "source": [
    "### その他: こういうこともできそう"
   ]
  },
  {
   "cell_type": "code",
   "execution_count": null,
   "id": "5f8791a1",
   "metadata": {},
   "outputs": [],
   "source": [
    "txt = \"バナナはおやつに入りますか？\"\n",
    "\n",
    "for i in range(10):\n",
    "    print(f\"i: {i}\")\n",
    "    if i % 2 == 0:\n",
    "        txt = ja2en(txt)\n",
    "        print(txt)\n",
    "    else:\n",
    "        txt = en2ja(txt)\n",
    "        print(txt)"
   ]
  }
 ],
 "metadata": {
  "kernelspec": {
   "display_name": "Python 3",
   "language": "python",
   "name": "python3"
  },
  "language_info": {
   "codemirror_mode": {
    "name": "ipython",
    "version": 3
   },
   "file_extension": ".py",
   "mimetype": "text/x-python",
   "name": "python",
   "nbconvert_exporter": "python",
   "pygments_lexer": "ipython3",
   "version": "3.11.9"
  }
 },
 "nbformat": 4,
 "nbformat_minor": 5
}
